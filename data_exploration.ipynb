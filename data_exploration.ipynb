{
 "metadata": {
  "language_info": {
   "codemirror_mode": {
    "name": "ipython",
    "version": 3
   },
   "file_extension": ".py",
   "mimetype": "text/x-python",
   "name": "python",
   "nbconvert_exporter": "python",
   "pygments_lexer": "ipython3",
   "version": "3.8.10"
  },
  "orig_nbformat": 2,
  "kernelspec": {
   "name": "python3810jvsc74a57bd09826494dcbac3a37e68986e37dbe8496cdbd9df9fd243a00d65dbafd3613db01",
   "display_name": "Python 3.8.10 64-bit ('rox-bicycle-data': pyenv)"
  },
  "metadata": {
   "interpreter": {
    "hash": "9826494dcbac3a37e68986e37dbe8496cdbd9df9fd243a00d65dbafd3613db01"
   }
  }
 },
 "nbformat": 4,
 "nbformat_minor": 2,
 "cells": [
  {
   "cell_type": "code",
   "execution_count": 1,
   "metadata": {},
   "outputs": [],
   "source": [
    "import pandas as pd"
   ]
  },
  {
   "source": [
    "### Exploring Person data"
   ],
   "cell_type": "markdown",
   "metadata": {}
  },
  {
   "cell_type": "code",
   "execution_count": 2,
   "metadata": {},
   "outputs": [
    {
     "output_type": "stream",
     "name": "stdout",
     "text": [
      "       BusinessEntityID PersonType  NameStyle Title FirstName MiddleName  \\\n0                     1         EM          0   NaN       Ken          J   \n1                     2         EM          0   NaN     Terri        Lee   \n...                 ...        ...        ...   ...       ...        ...   \n19970             20776         IN          0   NaN   Crystal        NaN   \n19971             20777         IN          0   NaN   Crystal        NaN   \n\n      LastName Suffix  EmailPromotion AdditionalContactInfo  \\\n0      Sánchez    NaN               0                   NaN   \n1        Duffy    NaN               1                   NaN   \n...        ...    ...             ...                   ...   \n19970    Zheng    NaN               1                   NaN   \n19971       Hu    NaN               0                   NaN   \n\n                                            Demographics  \\\n0      <IndividualSurvey xmlns=\"http://schemas.micros...   \n1      <IndividualSurvey xmlns=\"http://schemas.micros...   \n...                                                  ...   \n19970  <IndividualSurvey xmlns=\"http://schemas.micros...   \n19971  <IndividualSurvey xmlns=\"http://schemas.micros...   \n\n                                    rowguid             ModifiedDate  \n0      92C4279F-1207-48A3-8448-4636514EB7E2  2009-01-07 00:00:00.000  \n1      D8763459-8AA8-47CC-AFF7-C9079AF79033  2008-01-24 00:00:00.000  \n...                                     ...                      ...  \n19970  386E35E8-97B3-43E4-9B5F-9594C2FF5CEA  2014-01-14 00:00:00.000  \n19971  1773C8F3-2CC7-4826-A7F5-30D3F36543CD  2013-10-16 00:00:00.000  \n\n[19972 rows x 13 columns]\n"
     ]
    }
   ],
   "source": [
    "df = pd.read_csv('data/Person.Person.csv', sep=';')\n",
    "\n",
    "with pd.option_context('display.max_rows', 4, 'display.max_columns', None):\n",
    "    print(df)"
   ]
  },
  {
   "cell_type": "code",
   "execution_count": 3,
   "metadata": {},
   "outputs": [
    {
     "output_type": "stream",
     "name": "stdout",
     "text": [
      "BusinessEntityID, int64, False\nPersonType, object, False\nNameStyle, int64, False\nTitle, object, True\nFirstName, object, False\nMiddleName, object, True\nLastName, object, False\nSuffix, object, True\nEmailPromotion, int64, False\nAdditionalContactInfo, object, True\nDemographics, object, False\nrowguid, object, False\nModifiedDate, object, False\n"
     ]
    }
   ],
   "source": [
    "for i in df.columns:\n",
    "    print(str(i) + ', ' + str(df[i].dtypes) + ', ' + str(df[i].isnull().values.any()))\n",
    "# Column: name, data type, has null"
   ]
  },
  {
   "cell_type": "code",
   "execution_count": 4,
   "metadata": {},
   "outputs": [
    {
     "output_type": "stream",
     "name": "stdout",
     "text": [
      "CREATE TABLE \"person\" (\n\"index\" INTEGER,\n  \"BusinessEntityID\" INTEGER,\n  \"PersonType\" TEXT,\n  \"NameStyle\" INTEGER,\n  \"Title\" TEXT,\n  \"FirstName\" TEXT,\n  \"MiddleName\" TEXT,\n  \"LastName\" TEXT,\n  \"Suffix\" TEXT,\n  \"EmailPromotion\" INTEGER,\n  \"AdditionalContactInfo\" TEXT,\n  \"Demographics\" TEXT,\n  \"rowguid\" TEXT,\n  \"ModifiedDate\" TEXT\n)\n"
     ]
    }
   ],
   "source": [
    "print(pd.io.sql.get_schema(df.reset_index(), 'person'))"
   ]
  },
  {
   "cell_type": "code",
   "execution_count": 5,
   "metadata": {},
   "outputs": [
    {
     "output_type": "stream",
     "name": "stdout",
     "text": [
      "BusinessEntityID, 5\nPersonType, 2\nNameStyle, 1\nTitle, 4.0\nFirstName, 24\nMiddleName, 16.0\nLastName, 22\nSuffix, 3.0\nEmailPromotion, 1\nAdditionalContactInfo, 1611.0\nDemographics, 623\nrowguid, 36\nModifiedDate, 23\n"
     ]
    }
   ],
   "source": [
    "for i in df.columns:\n",
    "    if df[i].dtypes != 'object':\n",
    "        df[i] = df[i].apply(str)\n",
    "    print(str(i) + ', ' + str(df[i].str.len().max()))\n",
    "# Column: name, max len"
   ]
  },
  {
   "cell_type": "code",
   "execution_count": 6,
   "metadata": {},
   "outputs": [
    {
     "output_type": "execute_result",
     "data": {
      "text/plain": [
       "'<AdditionalContactInfo xmlns=\"http://schemas.microsoft.com/sqlserver/2004/07/adventure-works/ContactInfo\" xmlns:crm=\"http://schemas.microsoft.com/sqlserver/2004/07/adventure-works/ContactRecord\" xmlns:act=\"http://schemas.microsoft.com/sqlserver/2004/07/adventure-works/ContactTypes\">Customer provided this telephone number for weekend access.<act:telephoneNumber><act:number>605-555-9877</act:number></act:telephoneNumber>secondary phone number.<act:pager><act:number>310-555-5432</act:number><act:SpecialInstructions>Page only if other contact attempts fail.</act:SpecialInstructions></act:pager>Additional home address.<act:homePostalAddress><act:Street>990 5th Avenue</act:Street><act:City>Redmond</act:City><act:StateProvince>WA</act:StateProvince><act:PostalCode>98052</act:PostalCode><act:CountryRegion>USA</act:CountryRegion><act:SpecialInstructions>Use this address for billing only.</act:SpecialInstructions></act:homePostalAddress><act:eMail><act:eMailAddress>Customer3@sample.com</act:eMailAddress><act:SpecialInstructions>Do not send e-mails for urgent issues. Use telephone instead.</act:SpecialInstructions></act:eMail><crm:ContactRecord date=\"2002-01-01Z\">Customer first contacted the sales department. This customer is interested in opening a new bicycle store.</crm:ContactRecord><crm:ContactRecord date=\"2002-01-05Z\">Linda in sales returned the call. Customer provided another telephone number for off-hour coverage.<act:telephoneNumber><act:number>302-555-7733</act:number></act:telephoneNumber>We are still negotiating possible long-term contract.</crm:ContactRecord></AdditionalContactInfo>'"
      ]
     },
     "metadata": {},
     "execution_count": 6
    }
   ],
   "source": [
    "selection = df['AdditionalContactInfo'].str.len() == df['AdditionalContactInfo'].str.len().max()\n",
    "df.iloc[df[selection]['AdditionalContactInfo'].index[0]]['AdditionalContactInfo']"
   ]
  },
  {
   "cell_type": "code",
   "execution_count": 7,
   "metadata": {},
   "outputs": [
    {
     "output_type": "execute_result",
     "data": {
      "text/plain": [
       "'<IndividualSurvey xmlns=\"http://schemas.microsoft.com/sqlserver/2004/07/adventure-works/IndividualSurvey\"><TotalPurchaseYTD>-2049.0964</TotalPurchaseYTD><DateFirstPurchase>2003-04-17Z</DateFirstPurchase><BirthDate>1971-12-14Z</BirthDate><MaritalStatus>M</MaritalStatus><YearlyIncome>greater than 100000</YearlyIncome><Gender>M</Gender><TotalChildren>0</TotalChildren><NumberChildrenAtHome>5</NumberChildrenAtHome><Education>Partial High School</Education><Occupation>Professional</Occupation><HomeOwnerFlag>1</HomeOwnerFlag><NumberCarsOwned>4</NumberCarsOwned><CommuteDistance>10+ Miles</CommuteDistance></IndividualSurvey>'"
      ]
     },
     "metadata": {},
     "execution_count": 7
    }
   ],
   "source": [
    "selection2 = df['Demographics'].str.len() == df['Demographics'].str.len().max()\n",
    "df.iloc[df[selection2]['Demographics'].index[0]]['Demographics']"
   ]
  },
  {
   "source": [
    "### Exploring Product data"
   ],
   "cell_type": "markdown",
   "metadata": {}
  },
  {
   "cell_type": "code",
   "execution_count": 8,
   "metadata": {},
   "outputs": [
    {
     "output_type": "stream",
     "name": "stdout",
     "text": [
      "     ProductID                Name ProductNumber  MakeFlag  FinishedGoodsFlag  \\\n0            1     Adjustable Race       AR-5381         0                  0   \n1            2        Bearing Ball       BA-8327         0                  0   \n..         ...                 ...           ...       ...                ...   \n502        998  Road-750 Black, 48    BK-R19B-48         1                  1   \n503        999  Road-750 Black, 52    BK-R19B-52         1                  1   \n\n     Color  SafetyStockLevel  ReorderPoint StandardCost ListPrice Size  \\\n0      NaN              1000           750         0,00      0,00  NaN   \n1      NaN              1000           750         0,00      0,00  NaN   \n..     ...               ...           ...          ...       ...  ...   \n502  Black               100            75     343,6496    539,99   48   \n503  Black               100            75     343,6496    539,99   52   \n\n    SizeUnitMeasureCode WeightUnitMeasureCode  Weight  DaysToManufacture  \\\n0                   NaN                   NaN     NaN                  0   \n1                   NaN                   NaN     NaN                  0   \n..                  ...                   ...     ...                ...   \n502                 CM                    LB    20.13                  4   \n503                 CM                    LB    20.42                  4   \n\n    ProductLine Class Style  ProductSubcategoryID  ProductModelID  \\\n0           NaN   NaN   NaN                   NaN             NaN   \n1           NaN   NaN   NaN                   NaN             NaN   \n..          ...   ...   ...                   ...             ...   \n502          R     L     U                    2.0            31.0   \n503          R     L     U                    2.0            31.0   \n\n               SellStartDate SellEndDate  DiscontinuedDate  \\\n0    2008-04-30 00:00:00.000         NaN               NaN   \n1    2008-04-30 00:00:00.000         NaN               NaN   \n..                       ...         ...               ...   \n502  2013-05-30 00:00:00.000         NaN               NaN   \n503  2013-05-30 00:00:00.000         NaN               NaN   \n\n                                  rowguid             ModifiedDate  \n0    694215B7-08F7-4C0D-ACB1-D734BA44C0C8  2014-02-08 10:01:36.827  \n1    58AE3C20-4F3A-4749-A7D4-D568806CC537  2014-02-08 10:01:36.827  \n..                                    ...                      ...  \n502  3DE9A212-1D49-40B6-B10A-F564D981DBDE  2014-02-08 10:01:36.827  \n503  AE638923-2B67-4679-B90E-ABBAB17DCA31  2014-02-08 10:01:36.827  \n\n[504 rows x 25 columns]\n"
     ]
    }
   ],
   "source": [
    "df = pd.read_csv('data/Production.Product.csv', sep=';')\n",
    "\n",
    "with pd.option_context('display.max_rows', 4, 'display.max_columns', None):\n",
    "    print(df)"
   ]
  },
  {
   "cell_type": "code",
   "execution_count": 9,
   "metadata": {},
   "outputs": [
    {
     "output_type": "stream",
     "name": "stdout",
     "text": [
      "ProductID, int64, False\nName, object, False\nProductNumber, object, False\nMakeFlag, int64, False\nFinishedGoodsFlag, int64, False\nColor, object, True\nSafetyStockLevel, int64, False\nReorderPoint, int64, False\nStandardCost, object, False\nListPrice, object, False\nSize, object, True\nSizeUnitMeasureCode, object, True\nWeightUnitMeasureCode, object, True\nWeight, float64, True\nDaysToManufacture, int64, False\nProductLine, object, True\nClass, object, True\nStyle, object, True\nProductSubcategoryID, float64, True\nProductModelID, float64, True\nSellStartDate, object, False\nSellEndDate, object, True\nDiscontinuedDate, float64, True\nrowguid, object, False\nModifiedDate, object, False\n"
     ]
    }
   ],
   "source": [
    "for i in df.columns:\n",
    "    print(str(i) + ', ' + str(df[i].dtypes) + ', ' + str(df[i].isnull().values.any()))\n",
    "# Column: name, data type, has null"
   ]
  },
  {
   "cell_type": "code",
   "execution_count": 10,
   "metadata": {},
   "outputs": [
    {
     "output_type": "stream",
     "name": "stdout",
     "text": [
      "CREATE TABLE \"product\" (\n\"index\" INTEGER,\n  \"ProductID\" INTEGER,\n  \"Name\" TEXT,\n  \"ProductNumber\" TEXT,\n  \"MakeFlag\" INTEGER,\n  \"FinishedGoodsFlag\" INTEGER,\n  \"Color\" TEXT,\n  \"SafetyStockLevel\" INTEGER,\n  \"ReorderPoint\" INTEGER,\n  \"StandardCost\" TEXT,\n  \"ListPrice\" TEXT,\n  \"Size\" TEXT,\n  \"SizeUnitMeasureCode\" TEXT,\n  \"WeightUnitMeasureCode\" TEXT,\n  \"Weight\" REAL,\n  \"DaysToManufacture\" INTEGER,\n  \"ProductLine\" TEXT,\n  \"Class\" TEXT,\n  \"Style\" TEXT,\n  \"ProductSubcategoryID\" REAL,\n  \"ProductModelID\" REAL,\n  \"SellStartDate\" TEXT,\n  \"SellEndDate\" TEXT,\n  \"DiscontinuedDate\" REAL,\n  \"rowguid\" TEXT,\n  \"ModifiedDate\" TEXT\n)\n"
     ]
    }
   ],
   "source": [
    "print(pd.io.sql.get_schema(df.reset_index(), 'product'))"
   ]
  },
  {
   "cell_type": "code",
   "execution_count": 11,
   "metadata": {},
   "outputs": [
    {
     "output_type": "stream",
     "name": "stdout",
     "text": [
      "ProductID, 3\nName, 32\nProductNumber, 10\nMakeFlag, 1\nFinishedGoodsFlag, 1\nColor, 12.0\nSafetyStockLevel, 4\nReorderPoint, 3\nStandardCost, 9\nListPrice, 7\nSize, 2.0\nSizeUnitMeasureCode, 3.0\nWeightUnitMeasureCode, 3.0\nWeight, 6\nDaysToManufacture, 1\nProductLine, 2.0\nClass, 2.0\nStyle, 2.0\nProductSubcategoryID, 4\nProductModelID, 5\nSellStartDate, 23\nSellEndDate, 23.0\nDiscontinuedDate, 3\nrowguid, 36\nModifiedDate, 23\n"
     ]
    }
   ],
   "source": [
    "for i in df.columns:\n",
    "    if df[i].dtypes != 'object':\n",
    "        df[i] = df[i].apply(str)\n",
    "    print(str(i) + ', ' + str(df[i].str.len().max()))\n",
    "# Column: name, max len"
   ]
  },
  {
   "source": [
    "### Exploring Customer data"
   ],
   "cell_type": "markdown",
   "metadata": {}
  },
  {
   "cell_type": "code",
   "execution_count": 13,
   "metadata": {},
   "outputs": [
    {
     "output_type": "stream",
     "name": "stdout",
     "text": [
      "       CustomerID  PersonID  StoreID  TerritoryID AccountNumber  \\\n0               1       NaN    934.0            1    AW00000001   \n1               2       NaN   1028.0            1    AW00000002   \n...           ...       ...      ...          ...           ...   \n19818       30117    1991.0   1992.0            4    AW00030117   \n19819       30118    1993.0   1994.0            3    AW00030118   \n\n                                    rowguid             ModifiedDate  \n0      3F5AE95E-B87D-4AED-95B4-C3797AFCB74F  2014-09-12 11:15:07.263  \n1      E552F657-A9AF-4A7D-A645-C429D6E02491  2014-09-12 11:15:07.263  \n...                                     ...                      ...  \n19818  6F08E2FB-1CD3-4F6E-A2E6-385669598B19  2014-09-12 11:15:07.263  \n19819  2495B4EB-FE8B-459E-A1B6-DBA25C04E626  2014-09-12 11:15:07.263  \n\n[19820 rows x 7 columns]\n"
     ]
    }
   ],
   "source": [
    "df = pd.read_csv('data/Sales.Customer.csv', sep=';')\n",
    "\n",
    "with pd.option_context('display.max_rows', 4, 'display.max_columns', None):\n",
    "    print(df)"
   ]
  },
  {
   "cell_type": "code",
   "execution_count": 14,
   "metadata": {},
   "outputs": [
    {
     "output_type": "stream",
     "name": "stdout",
     "text": [
      "CustomerID, int64, False\nPersonID, float64, True\nStoreID, float64, True\nTerritoryID, int64, False\nAccountNumber, object, False\nrowguid, object, False\nModifiedDate, object, False\n"
     ]
    }
   ],
   "source": [
    "for i in df.columns:\n",
    "    print(str(i) + ', ' + str(df[i].dtypes) + ', ' + str(df[i].isnull().values.any()))\n",
    "# Column: name, data type, has null"
   ]
  },
  {
   "cell_type": "code",
   "execution_count": 15,
   "metadata": {},
   "outputs": [
    {
     "output_type": "stream",
     "name": "stdout",
     "text": [
      "CREATE TABLE \"customer\" (\n\"index\" INTEGER,\n  \"CustomerID\" INTEGER,\n  \"PersonID\" REAL,\n  \"StoreID\" REAL,\n  \"TerritoryID\" INTEGER,\n  \"AccountNumber\" TEXT,\n  \"rowguid\" TEXT,\n  \"ModifiedDate\" TEXT\n)\n"
     ]
    }
   ],
   "source": [
    "print(pd.io.sql.get_schema(df.reset_index(), 'customer'))"
   ]
  },
  {
   "cell_type": "code",
   "execution_count": 16,
   "metadata": {},
   "outputs": [
    {
     "output_type": "stream",
     "name": "stdout",
     "text": [
      "CustomerID, 5\nPersonID, 7\nStoreID, 6\nTerritoryID, 2\nAccountNumber, 10\nrowguid, 36\nModifiedDate, 23\n"
     ]
    }
   ],
   "source": [
    "for i in df.columns:\n",
    "    if df[i].dtypes != 'object':\n",
    "        df[i] = df[i].apply(str)\n",
    "    print(str(i) + ', ' + str(df[i].str.len().max()))\n",
    "# Column: name, max len"
   ]
  },
  {
   "source": [
    "### Exploring SalesOrderDetail data"
   ],
   "cell_type": "markdown",
   "metadata": {}
  },
  {
   "cell_type": "code",
   "execution_count": 18,
   "metadata": {},
   "outputs": [
    {
     "output_type": "stream",
     "name": "stdout",
     "text": [
      "        SalesOrderID  SalesOrderDetailID CarrierTrackingNumber  OrderQty  \\\n0              43659                   1          4911-403C-98         1   \n1              43659                   2          4911-403C-98         3   \n...              ...                 ...                   ...       ...   \n121315         75123              121316                   NaN         1   \n121316         75123              121317                   NaN         1   \n\n        ProductID  SpecialOfferID UnitPrice UnitPriceDiscount  LineTotal  \\\n0             776               1  2024,994              0,00   2024.994   \n1             777               1  2024,994              0,00   6074.982   \n...           ...             ...       ...               ...        ...   \n121315        879               1    159,00              0,00    159.000   \n121316        712               1      8,99              0,00      8.990   \n\n                                     rowguid             ModifiedDate  \n0       B207C96D-D9E6-402B-8470-2CC176C42283  2011-05-31 00:00:00.000  \n1       7ABB600D-1E77-41BE-9FE5-B9142CFC08FA  2011-05-31 00:00:00.000  \n...                                      ...                      ...  \n121315  75A89C6A-C60A-47EA-8A52-B52A9C435B64  2014-06-30 00:00:00.000  \n121316  73646D26-0461-450D-8019-2C6C858619CA  2014-06-30 00:00:00.000  \n\n[121317 rows x 11 columns]\n"
     ]
    }
   ],
   "source": [
    "df = pd.read_csv('data/Sales.SalesOrderDetail.csv', sep=';')\n",
    "\n",
    "with pd.option_context('display.max_rows', 4, 'display.max_columns', None):\n",
    "    print(df)"
   ]
  },
  {
   "cell_type": "code",
   "execution_count": 19,
   "metadata": {},
   "outputs": [
    {
     "output_type": "stream",
     "name": "stdout",
     "text": [
      "SalesOrderID, int64, False\nSalesOrderDetailID, int64, False\nCarrierTrackingNumber, object, True\nOrderQty, int64, False\nProductID, int64, False\nSpecialOfferID, int64, False\nUnitPrice, object, False\nUnitPriceDiscount, object, False\nLineTotal, float64, False\nrowguid, object, False\nModifiedDate, object, False\n"
     ]
    }
   ],
   "source": [
    "for i in df.columns:\n",
    "    print(str(i) + ', ' + str(df[i].dtypes) + ', ' + str(df[i].isnull().values.any()))\n",
    "# Column: name, data type, has null"
   ]
  },
  {
   "cell_type": "code",
   "execution_count": 20,
   "metadata": {},
   "outputs": [
    {
     "output_type": "stream",
     "name": "stdout",
     "text": [
      "CREATE TABLE \"sales_order_detail\" (\n\"index\" INTEGER,\n  \"SalesOrderID\" INTEGER,\n  \"SalesOrderDetailID\" INTEGER,\n  \"CarrierTrackingNumber\" TEXT,\n  \"OrderQty\" INTEGER,\n  \"ProductID\" INTEGER,\n  \"SpecialOfferID\" INTEGER,\n  \"UnitPrice\" TEXT,\n  \"UnitPriceDiscount\" TEXT,\n  \"LineTotal\" REAL,\n  \"rowguid\" TEXT,\n  \"ModifiedDate\" TEXT\n)\n"
     ]
    }
   ],
   "source": [
    "print(pd.io.sql.get_schema(df.reset_index(), 'sales_order_detail'))"
   ]
  },
  {
   "cell_type": "code",
   "execution_count": 21,
   "metadata": {},
   "outputs": [
    {
     "output_type": "stream",
     "name": "stdout",
     "text": [
      "SalesOrderID, 5\n",
      "SalesOrderDetailID, 6\n",
      "CarrierTrackingNumber, 12.0\n",
      "OrderQty, 2\n",
      "ProductID, 3\n",
      "SpecialOfferID, 2\n",
      "UnitPrice, 9\n",
      "UnitPriceDiscount, 4\n",
      "LineTotal, 12\n",
      "rowguid, 36\n",
      "ModifiedDate, 23\n"
     ]
    }
   ],
   "source": [
    "for i in df.columns:\n",
    "    if df[i].dtypes != 'object':\n",
    "        df[i] = df[i].apply(str)\n",
    "    print(str(i) + ', ' + str(df[i].str.len().max()))\n",
    "# Column: name, max len"
   ]
  },
  {
   "source": [
    "### Exploring SalesOrderHeader data"
   ],
   "cell_type": "markdown",
   "metadata": {}
  },
  {
   "cell_type": "code",
   "execution_count": 32,
   "metadata": {
    "tags": []
   },
   "outputs": [
    {
     "output_type": "stream",
     "name": "stdout",
     "text": [
      "       SalesOrderID  RevisionNumber                OrderDate  \\\n0             43659               8  2011-05-31 00:00:00.000   \n1             43660               8  2011-05-31 00:00:00.000   \n...             ...             ...                      ...   \n31463         75122               8  2014-06-30 00:00:00.000   \n31464         75123               8  2014-06-30 00:00:00.000   \n\n                       DueDate                 ShipDate  Status  \\\n0      2011-06-12 00:00:00.000  2011-06-07 00:00:00.000       5   \n1      2011-06-12 00:00:00.000  2011-06-07 00:00:00.000       5   \n...                        ...                      ...     ...   \n31463  2014-07-12 00:00:00.000  2014-07-07 00:00:00.000       5   \n31464  2014-07-12 00:00:00.000  2014-07-07 00:00:00.000       5   \n\n       OnlineOrderFlag SalesOrderNumber PurchaseOrderNumber   AccountNumber  \\\n0                    0          SO43659         PO522145787  10-4020-000676   \n1                    0          SO43660       PO18850127500  10-4020-000117   \n...                ...              ...                 ...             ...   \n31463                1          SO75122                 NaN  10-4030-015868   \n31464                1          SO75123                 NaN  10-4030-018759   \n\n       CustomerID  SalesPersonID  TerritoryID  BillToAddressID  \\\n0           29825          279.0            5              985   \n1           29672          279.0            5              921   \n...           ...            ...          ...              ...   \n31463       15868            NaN            6            14616   \n31464       18759            NaN            6            14024   \n\n       ShipToAddressID  ShipMethodID  CreditCardID CreditCardApprovalCode  \\\n0                  985             5       16281.0          105041Vi84182   \n1                  921             5        5618.0          115213Vi29411   \n...                ...           ...           ...                    ...   \n31463            14616             1       18719.0          330022Vi97312   \n31464            14024             1       10084.0          230370Vi51970   \n\n       CurrencyRateID    SubTotal     TaxAmt   Freight    TotalDue  Comment  \\\n0                 NaN  20565,6206  1971,5149  616,0984  23153,2339      NaN   \n1                 NaN   1294,2529   124,2483   38,8276   1457,3288      NaN   \n...               ...         ...        ...       ...         ...      ...   \n31463             NaN       30,97     2,4776    0,7743     34,2219      NaN   \n31464             NaN      189,97    15,1976    4,7493    209,9169      NaN   \n\n                                    rowguid             ModifiedDate  \n0      79B65321-39CA-4115-9CBA-8FE0903E12E6  2011-06-07 00:00:00.000  \n1      738DC42D-D03B-48A1-9822-F95A67EA7389  2011-06-07 00:00:00.000  \n...                                     ...                      ...  \n31463  4221035A-4159-492F-AF40-4363A64FFC16  2014-07-07 00:00:00.000  \n31464  D54752FF-2B54-4BE5-95EA-3B72289C059F  2014-07-07 00:00:00.000  \n\n[31465 rows x 26 columns]\n"
     ]
    }
   ],
   "source": [
    "df = pd.read_csv('data/Sales.SalesOrderHeader.csv', sep=';')\n",
    "\n",
    "with pd.option_context('display.max_rows', 4, 'display.max_columns', None):\n",
    "    print(df)"
   ]
  },
  {
   "cell_type": "code",
   "execution_count": 23,
   "metadata": {},
   "outputs": [
    {
     "output_type": "stream",
     "name": "stdout",
     "text": [
      "SalesOrderID, int64, False\nRevisionNumber, int64, False\nOrderDate, object, False\nDueDate, object, False\nShipDate, object, False\nStatus, int64, False\nOnlineOrderFlag, int64, False\nSalesOrderNumber, object, False\nPurchaseOrderNumber, object, True\nAccountNumber, object, False\nCustomerID, int64, False\nSalesPersonID, float64, True\nTerritoryID, int64, False\nBillToAddressID, int64, False\nShipToAddressID, int64, False\nShipMethodID, int64, False\nCreditCardID, float64, True\nCreditCardApprovalCode, object, True\nCurrencyRateID, float64, True\nSubTotal, object, False\nTaxAmt, object, False\nFreight, object, False\nTotalDue, object, False\nComment, float64, True\nrowguid, object, False\nModifiedDate, object, False\n"
     ]
    }
   ],
   "source": [
    "for i in df.columns:\n",
    "    print(str(i) + ', ' + str(df[i].dtypes) + ', ' + str(df[i].isnull().values.any()))\n",
    "# Column: name, data type, has null"
   ]
  },
  {
   "cell_type": "code",
   "execution_count": 24,
   "metadata": {},
   "outputs": [
    {
     "output_type": "stream",
     "name": "stdout",
     "text": [
      "CREATE TABLE \"sales_order_header\" (\n\"index\" INTEGER,\n  \"SalesOrderID\" INTEGER,\n  \"RevisionNumber\" INTEGER,\n  \"OrderDate\" TEXT,\n  \"DueDate\" TEXT,\n  \"ShipDate\" TEXT,\n  \"Status\" INTEGER,\n  \"OnlineOrderFlag\" INTEGER,\n  \"SalesOrderNumber\" TEXT,\n  \"PurchaseOrderNumber\" TEXT,\n  \"AccountNumber\" TEXT,\n  \"CustomerID\" INTEGER,\n  \"SalesPersonID\" REAL,\n  \"TerritoryID\" INTEGER,\n  \"BillToAddressID\" INTEGER,\n  \"ShipToAddressID\" INTEGER,\n  \"ShipMethodID\" INTEGER,\n  \"CreditCardID\" REAL,\n  \"CreditCardApprovalCode\" TEXT,\n  \"CurrencyRateID\" REAL,\n  \"SubTotal\" TEXT,\n  \"TaxAmt\" TEXT,\n  \"Freight\" TEXT,\n  \"TotalDue\" TEXT,\n  \"Comment\" REAL,\n  \"rowguid\" TEXT,\n  \"ModifiedDate\" TEXT\n)\n"
     ]
    }
   ],
   "source": [
    "print(pd.io.sql.get_schema(df.reset_index(), 'sales_order_header'))"
   ]
  },
  {
   "cell_type": "code",
   "execution_count": 25,
   "metadata": {},
   "outputs": [
    {
     "output_type": "stream",
     "name": "stdout",
     "text": [
      "SalesOrderID, 5\n",
      "RevisionNumber, 1\n",
      "OrderDate, 23\n",
      "DueDate, 23\n",
      "ShipDate, 23\n",
      "Status, 1\n",
      "OnlineOrderFlag, 1\n",
      "SalesOrderNumber, 7\n",
      "PurchaseOrderNumber, 13.0\n",
      "AccountNumber, 14\n",
      "CustomerID, 5\n",
      "SalesPersonID, 5\n",
      "TerritoryID, 2\n",
      "BillToAddressID, 5\n",
      "ShipToAddressID, 5\n",
      "ShipMethodID, 1\n",
      "CreditCardID, 7\n",
      "CreditCardApprovalCode, 15.0\n",
      "CurrencyRateID, 7\n",
      "SubTotal, 11\n",
      "TaxAmt, 10\n",
      "Freight, 9\n",
      "TotalDue, 11\n",
      "Comment, 3\n",
      "rowguid, 36\n",
      "ModifiedDate, 23\n"
     ]
    }
   ],
   "source": [
    "for i in df.columns:\n",
    "    if df[i].dtypes != 'object':\n",
    "        df[i] = df[i].apply(str)\n",
    "    print(str(i) + ', ' + str(df[i].str.len().max()))\n",
    "# Column: name, max len"
   ]
  },
  {
   "source": [
    "### Exploring SpecialOfferProduct data"
   ],
   "cell_type": "markdown",
   "metadata": {}
  },
  {
   "cell_type": "code",
   "execution_count": 33,
   "metadata": {},
   "outputs": [
    {
     "output_type": "stream",
     "name": "stdout",
     "text": [
      "     SpecialOfferID  ProductID                               rowguid  \\\n0                 1        680  BB30B868-D86C-4557-8DB2-4B2D0A83A0FB   \n1                 1        706  B3C9A4B1-2AE6-4CBA-B552-1F206C9F4C1F   \n..              ...        ...                                   ...   \n536              16        987  BEBD6F20-D6C2-4511-8C97-1F53B2099D1F   \n537              16        988  2981C98B-A18F-4153-A6A2-EC453CB130CE   \n\n                ModifiedDate  \n0    2011-04-01 00:00:00.000  \n1    2011-04-01 00:00:00.000  \n..                       ...  \n536  2014-03-01 00:00:00.000  \n537  2014-03-01 00:00:00.000  \n\n[538 rows x 4 columns]\n"
     ]
    }
   ],
   "source": [
    "df = pd.read_csv('data/Sales.SpecialOfferProduct.csv', sep=';')\n",
    "\n",
    "with pd.option_context('display.max_rows', 4, 'display.max_columns', None):\n",
    "    print(df)"
   ]
  },
  {
   "cell_type": "code",
   "execution_count": 34,
   "metadata": {},
   "outputs": [
    {
     "output_type": "stream",
     "name": "stdout",
     "text": [
      "SpecialOfferID, int64, False\nProductID, int64, False\nrowguid, object, False\nModifiedDate, object, False\n"
     ]
    }
   ],
   "source": [
    "for i in df.columns:\n",
    "    print(str(i) + ', ' + str(df[i].dtypes) + ', ' + str(df[i].isnull().values.any()))\n",
    "# Column: name, data type, has null"
   ]
  },
  {
   "cell_type": "code",
   "execution_count": 37,
   "metadata": {},
   "outputs": [
    {
     "output_type": "stream",
     "name": "stdout",
     "text": [
      "CREATE TABLE \"special_offer_product\" (\n\"index\" INTEGER,\n  \"SpecialOfferID\" TEXT,\n  \"ProductID\" TEXT,\n  \"rowguid\" TEXT,\n  \"ModifiedDate\" TEXT\n)\n"
     ]
    }
   ],
   "source": [
    "print(pd.io.sql.get_schema(df.reset_index(), 'special_offer_product'))"
   ]
  },
  {
   "cell_type": "code",
   "execution_count": 36,
   "metadata": {},
   "outputs": [
    {
     "output_type": "stream",
     "name": "stdout",
     "text": [
      "SpecialOfferID, 2\nProductID, 3\nrowguid, 36\nModifiedDate, 23\n"
     ]
    }
   ],
   "source": [
    "for i in df.columns:\n",
    "    if df[i].dtypes != 'object':\n",
    "        df[i] = df[i].apply(str)\n",
    "    print(str(i) + ', ' + str(df[i].str.len().max()))\n",
    "# Column: name, max len"
   ]
  },
  {
   "cell_type": "code",
   "execution_count": null,
   "metadata": {},
   "outputs": [],
   "source": []
  },
  {
   "cell_type": "code",
   "execution_count": null,
   "metadata": {},
   "outputs": [],
   "source": []
  }
 ]
}